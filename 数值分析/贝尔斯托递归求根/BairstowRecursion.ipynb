{
 "cells": [
  {
   "cell_type": "code",
   "execution_count": 51,
   "metadata": {},
   "outputs": [
    {
     "data": {
      "image/png": "[encoded data removed]",
      "text/plain": [
       "<matplotlib.figure.Figure at 0x20e2f156978>"
      ]
     },
     "metadata": {},
     "output_type": "display_data"
    }
   ],
   "source": [
    "import matplotlib.pyplot as plt\n",
    "import numpy as np\n",
    "x = np.arange(-1.2, 2.4, 0.1)\n",
    "y = x**5-3.5*x**4+2.75*x**3+2.125*x**2-3.875*x+1.25\n",
    "plt.title(\"y=x^5-3.5*x^4+2.75*x^3+2.125*x^2-3.875*x+1.25\")\n",
    "plt.plot([-1.5,2.5],[0,0],color='red')\n",
    "plt.xlabel(\"x\")\n",
    "plt.ylabel(\"y\")\n",
    "plt.grid()\n",
    "plt.plot(x, y)\n",
    "plt.show()"
   ]
  },
  {
   "cell_type": "code",
   "execution_count": 50,
   "metadata": {},
   "outputs": [
    {
     "name": "stdout",
     "output_type": "stream",
     "text": [
      "一个实根是：0.4999999713200723\n",
      "一个实根是：-1.0000000365845982\n",
      "一个虚根是：1.000025501548532 + 0.4993116076613512 j\n",
      "一个虚根是：1.000025501548532 - 0.4993116076613512 j\n",
      "一个实根是：2.0070876965286377\n"
     ]
    }
   ],
   "source": [
    "#递归求根(pyhon3.6)\n",
    "import numpy as np\n",
    "import math\n",
    "from scipy.linalg import solve\n",
    "def getBorC(a,r,s):    #获得b或c方程参数数组\n",
    "    n = len(a) - 1\n",
    "    b = [0]*(n+1)\n",
    "    b[n] = a[n]\n",
    "    b[n-1] = a[n-1] + r*b[n-1+1]\n",
    "    for i in range(n-1):\n",
    "        b[n-2-i] = a[n-2-i]+r*b[n-2-i+1]+s*b[n-2-i+2]\n",
    "    return b\n",
    "def Rootseeking(a,r,s):\n",
    "    n = len(a)-1  #n为最高阶数\n",
    "    if n==0:    #所有的根已经求完\n",
    "        return\n",
    "    if n==1:    #还剩一阶\n",
    "        r = a[n]\n",
    "        s = a[n-1]\n",
    "        finalRoot = -(s/r)    #还剩一阶的情况，直接求根\n",
    "        print('一个实根是：' + str(finalRoot))\n",
    "        return\n",
    "    r_mistake = 1   #给误差Δr一个初始值\n",
    "    s_mistake = 1   #Δs的误差Δs一个初始值\n",
    "    while r_mistake>0.01 or s_mistake>0.01:   #直到Δr的误差、Δs的误差小于规定值，即修正的x^2-r*x-s的解是方程的一组根\n",
    "        b = getBorC(a,r,s)   #获得b\n",
    "        c = getBorC(b,r,s)   #获得c\n",
    "        x = np.array([[c[2],c[3]],[c[1],c[2]]])   #二元一次方程参数矩阵\n",
    "        y = np.array([-b[1],-b[0]])    #二元一次方程值矩阵\n",
    "        r_ , s_ = solve(x,y)   #解二元一次方程得到Δr、Δs\n",
    "        r = r_new = r_ + r   #修正r\n",
    "        s = s_new = s_ + s   #修正s\n",
    "        r_mistake = abs(r_/r_new)\n",
    "        s_mistake = abs(s_/s_new)\n",
    "    if r**2+4*s >= 0:\n",
    "        print('一个实根是：' + str((r_new+math.sqrt(r_new**2+4*s_new))/2))\n",
    "        print('一个实根是：' + str((r_new-math.sqrt(r_new**2+4*s_new))/2))\n",
    "    else:\n",
    "        print('一个虚根是：' + str((r_new)/2)+ ' + ' + str(math.sqrt(-4*s_new-r_new**2)/2) + ' j')\n",
    "        print('一个虚根是：' + str((r_new)/2)+ ' - ' + str(math.sqrt(-4*s_new-r_new**2)/2) + ' j')\n",
    "    a=[0]*(n-2+1) \n",
    "    for i in range(len(a)):\n",
    "        a[len(a)-1-i] = b[n-i]\n",
    "    Rootseeking(a,r,s)\n",
    "if __name__ =='__main__':\n",
    "    r=s=-1 #初始r、s为-1\n",
    "    a = [1.25,-3.875,2.125,2.75,-3.5,1]   #求解方程 x^5-3.5*x^4+2.75*x^3+2.125*x^2-3.875*x+1.25\n",
    "    Rootseeking(a,r,s) #递归求根"
   ]
  },
  {
   "cell_type": "code",
   "execution_count": null,
   "metadata": {},
   "outputs": [],
   "source": []
  }
 ],
 "metadata": {
  "celltoolbar": "Slideshow",
  "kernelspec": {
   "display_name": "Python 3",
   "language": "python",
   "name": "python3"
  },
  "language_info": {
   "codemirror_mode": {
    "name": "ipython",
    "version": 3
   },
   "file_extension": ".py",
   "mimetype": "text/x-python",
   "name": "python",
   "nbconvert_exporter": "python",
   "pygments_lexer": "ipython3",
   "version": "3.6.4"
  }
 },
 "nbformat": 4,
 "nbformat_minor": 2
}
