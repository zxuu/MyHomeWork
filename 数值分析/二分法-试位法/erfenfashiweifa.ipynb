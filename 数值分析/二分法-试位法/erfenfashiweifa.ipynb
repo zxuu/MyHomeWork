{
 "cells": [
  {
   "cell_type": "code",
   "execution_count": 2,
   "metadata": {},
   "outputs": [
    {
     "data": {
      "image/png": "[encoded data removed]",
      "text/plain": [
       "<matplotlib.figure.Figure at 0x174db94cc88>"
      ]
     },
     "metadata": {},
     "output_type": "display_data"
    }
   ],
   "source": [
    "import matplotlib.pyplot as plt\n",
    "import numpy as np\n",
    "x = np.arange(-5, 5, 0.1)\n",
    "y = 1-x-np.sin(x)\n",
    "plt.title(\"1-x-sin(x)\")\n",
    "plt.xlabel(\"x\")\n",
    "plt.ylabel(\"y\")\n",
    "plt.grid()\n",
    "plt.plot(x, y)\n",
    "plt.show()"
   ]
  },
  {
   "cell_type": "code",
   "execution_count": 16,
   "metadata": {},
   "outputs": [
    {
     "name": "stdout",
     "output_type": "stream",
     "text": [
      "0.5109734293885687\n"
     ]
    }
   ],
   "source": [
    "#试位法\n",
    "a = 0.1\n",
    "b = 2\n",
    "def f(x):\n",
    "    return 1-x-np.sin(x)\n",
    "i = 0\n",
    "while 1:\n",
    "    #c为连线与x轴的交点\n",
    "    # c-a     \\f(a)\\\n",
    "    #----- = --------\n",
    "    # b-c     \\f(b)\\\n",
    "    c = (a*abs(b) + b*abs(f(a)))/(abs(f(a)) + abs(b))\n",
    "    #试位300次\n",
    "    if i == 300:\n",
    "        print(c)\n",
    "        break\n",
    "    #交点不为零点\n",
    "    elif f(c) != 0:\n",
    "        #交点在零点的右边\n",
    "        if f(a)*f(c) < 0:\n",
    "            #交点作为区间右边界\n",
    "            b = c\n",
    "        #交点在零点的左边\n",
    "        else:\n",
    "            #交点作为零点左边界\n",
    "            a = c\n",
    "    else:\n",
    "        print(c)\n",
    "        break\n",
    "    i += 1"
   ]
  },
  {
   "cell_type": "code",
   "execution_count": 13,
   "metadata": {},
   "outputs": [
    {
     "name": "stdout",
     "output_type": "stream",
     "text": [
      "0.5109718322753907\n"
     ]
    }
   ],
   "source": [
    "#二分法\n",
    "#函数的根大致在（0,2）之间\n",
    "a = 0.1\n",
    "b = 2\n",
    "def f(x):\n",
    "    #函数\n",
    "    return 1-x-np.sin(x)\n",
    "while 1:\n",
    "    c = (a+b)/2\n",
    "    #判断是否满足终止条件（当真实值误差低于一个给定的值终止）\n",
    "    if (b-a) < 0.5*10**(-4):\n",
    "        print(c)\n",
    "        break\n",
    "    #判断中值是否为零点\n",
    "    elif f(c) != 0:\n",
    "        #零点在中值的左边\n",
    "        if f(a)*f(c) < 0:\n",
    "            #中值作为区间右边界\n",
    "            b = c\n",
    "        #零点在中值的右边\n",
    "        else:\n",
    "            #中值作为区间左边界\n",
    "            a = c\n",
    "    else:\n",
    "        print(c)\n",
    "        break"
   ]
  },
  {
   "cell_type": "code",
   "execution_count": null,
   "metadata": {},
   "outputs": [],
   "source": []
  }
 ],
 "metadata": {
  "kernelspec": {
   "display_name": "Python 3",
   "language": "python",
   "name": "python3"
  },
  "language_info": {
   "codemirror_mode": {
    "name": "ipython",
    "version": 3
   },
   "file_extension": ".py",
   "mimetype": "text/x-python",
   "name": "python",
   "nbconvert_exporter": "python",
   "pygments_lexer": "ipython3",
   "version": "3.6.4"
  }
 },
 "nbformat": 4,
 "nbformat_minor": 2
}
