{
 "cells": [
  {
   "cell_type": "code",
   "execution_count": 46,
   "metadata": {
    "collapsed": true
   },
   "outputs": [
    {
     "name": "stdout",
     "output_type": "stream",
     "text": [
      "正确的解: [[ 1.]\n [-1.]\n [ 2.]]\n交换前\n[[ 5. -1.  1.]\n [ 2.  1.  2.]\n [ 1. -3. -4.]] [[ 8.]\n [ 5.]\n [-4.]]\n交换后\n[[ 1. -3. -4.]\n [ 2.  1.  2.]\n [ 5. -1.  1.]] [[-4.]\n [ 5.]\n [ 8.]]\n交换主元前\n[[ 1. -3. -4.]\n [ 2.  1.  2.]\n [ 5. -1.  1.]] [[-4.]\n [ 5.]\n [ 8.]]\n交换主元后\n[3, 2, 1]\n[[ 1. -3. -4.]\n [ 2.  7. 10.]\n [ 5. 14. 21.]] [[-4.]\n [13.]\n [28.]]\n交换主元前\n[[ 1. -3. -4.]\n [ 2.  7. 10.]\n [ 5. 14. 21.]] [[-4.]\n [13.]\n [28.]]\n交换主元后\n[3, 2, 1]\n[[ 1. -3. -4.]\n [ 2.  7. 10.]\n [ 5. 14.  1.]] [[-4.]\n [13.]\n [ 2.]]\n三角矩阵,只有上三角有用\n[[ 1. -3. -4.]\n [ 2.  7. 10.]\n [ 5. 14.  1.]]\n[[-4.]\n [13.]\n [ 2.]]\n[1.0, -1.0, 2.0]\nx1,x2,x3的位置分别在： [3, 2, 1]\n调回到原来的顺序后所以x1,x2,x3的值分别为\nx 3 的值为: 2.0\nx 2 的值为: -1.0\nx 1 的值为: 1.0\n"
     ]
    }
   ],
   "source": [
    "import numpy as np\n",
    "from numpy.linalg import solve\n",
    "def setMatrix():\n",
    "    a_matrix = np.mat([[5.0,-1.0,1.0],[2.0,1.0,2.0],[1.0,-3.0,-4.0]],dtype = float)\n",
    "    b_matrix = np.mat([8.0,5.0,-4.0],dtype = float).T\n",
    "    x=solve(a_matrix,b_matrix)        #调用函数得到正确的解\n",
    "    print('正确的解:',x)\n",
    "    return a_matrix,b_matrix\n",
    "def jiaohuanzhuyuan(a_matric, b_matric, xiabiao, x_matricc):\n",
    "    x_matric = x_matricc\n",
    "    n = len(a_matric)\n",
    "    k = xiabiao\n",
    "    p = k\n",
    "    big = np.abs(a_matric[k,k]) #初始化第k行第k个数为最大值\n",
    "    for i in range(k+1,n): #从第k+1行到最后一行检查是否有比big还要大的\n",
    "        dummy = np.abs(a_matric[i,k])\n",
    "        if dummy < big: #如果有则交换\n",
    "            big = dummy\n",
    "            p = i #并把行的下标记录下来冰赋值给p\n",
    "    if p != k: #如果确实发生了交换\n",
    "        for j in range(k,n): #则大的一行的所有值都要交换\n",
    "            dummy2 = a_matric[p,j] #dummy2为中间变量\n",
    "            a_matric[p,j] = a_matric[k,j]\n",
    "            a_matric[k,j] = dummy2\n",
    "        dummy3 = b_matric[p,0] #而且解也要交换\n",
    "        dummyx = x_matric[p] #x1,x2,x3的位置也要交换\n",
    "        b_matric[p,0] = b_matric[k,0]\n",
    "        x_matric[p] = x_matric[k]\n",
    "        b_matric[k,0] = dummy3\n",
    "        x_matric[k] = dummyx\n",
    "    return a_matric,b_matric,x_matric\n",
    "def Gauss_elimination(a_newMatric,b_newMatric,x_matricc):\n",
    "    n = len(a_newMatric)\n",
    "    x_matric =  x_matricc\n",
    "    for k in range(0,n-1):\n",
    "        print('交换主元前')\n",
    "        print(a_newMatric,b_newMatric)\n",
    "        for i in range(k+1,n):\n",
    "            factor = a_newMatric[i,k]/a_newMatric[k,k]\n",
    "            for j in range(k+1,n):\n",
    "                a_newMatric[i,j] = a_newMatric[i,j] - factor*a_newMatric[k,j]\n",
    "            b_newMatric[i,0] = b_newMatric[i,0] - factor*b_newMatric[k,0]\n",
    "        a_newMatric,b_newMatric,x_matric = jiaohuanzhuyuan(a_newMatric,b_newMatric,k+1,x_matric)\n",
    "        print('交换主元后')\n",
    "        print(x_matric)\n",
    "        print(a_newMatric,b_newMatric)\n",
    "    return a_newMatric,b_newMatric,x_matric\n",
    "def Gauss_Returnband(a_uppertriangle,b_uppertriangle):\n",
    "    n = len(a_uppertriangle)\n",
    "    Xi = [0]*n\n",
    "    Xi[n-1] = b_uppertriangle[n-1,0]/a_uppertriangle[n-1,n-1]\n",
    "    for i in range(n-2,-1,-1):\n",
    "        sum = b_uppertriangle[i,0]\n",
    "        for j in range(i+1,n):\n",
    "            sum -= a_uppertriangle[i,j]*Xi[j]\n",
    "        Xi[i] = sum/a_uppertriangle[i,i]\n",
    "    return Xi\n",
    "if __name__ == '__main__':\n",
    "    x_matric = [1,2,3] #记录x1,x2,x3的顺序\n",
    "    a,b = setMatrix()\n",
    "    # print('原先')\n",
    "    # print('a', a)\n",
    "    # print('b', b)\n",
    "    print('交换前')\n",
    "    print(a,b)\n",
    "    a,b,x_matric = jiaohuanzhuyuan(a,b,0,x_matric)\n",
    "    print('交换后')\n",
    "    print(a,b)\n",
    "    a_uppertriangle,b_uppertriangle,x_matric = Gauss_elimination(a,b,x_matric)\n",
    "    print('三角矩阵,只有上三角有用')\n",
    "    print(a_uppertriangle)\n",
    "    print(b_uppertriangle)\n",
    "    X = Gauss_Returnband(a_uppertriangle,b_uppertriangle)\n",
    "    print(X)\n",
    "    print('x1,x2,x3的位置分别在：',x_matric)\n",
    "    print('调回到原来的顺序后所以x1,x2,x3的值分别为',)\n",
    "    for i in range(0,3):\n",
    "        print('x',x_matric[i],'的值为:',X[x_matric[i]-1])"
   ]
  },
  {
   "cell_type": "code",
   "execution_count": null,
   "metadata": {},
   "outputs": [],
   "source": []
  }
 ],
 "metadata": {
  "kernelspec": {
   "display_name": "Python 2",
   "language": "python",
   "name": "python2"
  },
  "language_info": {
   "codemirror_mode": {
    "name": "ipython",
    "version": 2
   },
   "file_extension": ".py",
   "mimetype": "text/x-python",
   "name": "python",
   "nbconvert_exporter": "python",
   "pygments_lexer": "ipython2",
   "version": "2.7.6"
  }
 },
 "nbformat": 4,
 "nbformat_minor": 0
}
