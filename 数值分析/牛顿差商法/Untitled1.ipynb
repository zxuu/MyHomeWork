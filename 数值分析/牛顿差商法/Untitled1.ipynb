{
 "cells": [
  {
   "cell_type": "code",
   "execution_count": 26,
   "metadata": {},
   "outputs": [
    {
     "name": "stdout",
     "output_type": "stream",
     "text": [
      "b 0 = 3\n",
      "b 1 = 3.0\n",
      "b 2 = 1.0\n",
      "b 3 = 1.0\n",
      "b参数数组为： [3, 3.0, 1.0, 1.0]\n"
     ]
    }
   ],
   "source": [
    "#x0=0,x1=1,x2=2,x3=4 f(x0)=3,f(x1)=6,f(x2)=11,f(x3)=51\n",
    "Xi=[0,1,2,4]\n",
    "Yi=[3,6,11,51]\n",
    "myydict={0:3,1:6,2:11,4:51}\n",
    "mydict={4:51,2:11,1:6,0:3}\n",
    "def getB(mydict): #递归求解\n",
    "    n = len(mydict)\n",
    "    if(n == 2):\n",
    "        return (list(mydict.values())[0]-list(mydict.values())[1])/(list(mydict)[0]-list(mydict)[1])\n",
    "    dict_slice = lambda mydict, start, end: { k:mydict[k] for k in list(mydict.keys())[start:end] }\n",
    "    mydict1 = dict_slice(mydict, 0, n-1) #f(0,...n-1)\n",
    "    mydict2 = dict_slice(mydict, 1, n) #f(1,...n)\n",
    "    return (getB(mydict1)-getB(mydict2))/(list(mydict)[0]-list(mydict)[n-1])\n",
    "if __name__ =='__main__':\n",
    "    n=len(mydict)\n",
    "    b=[0]*n\n",
    "    print(\"b 0 =\",list(mydict.values())[n-1])\n",
    "    b[0]=list(mydict.values())[n-1]\n",
    "    j=1\n",
    "    for i in range(n-2,-1,-1):\n",
    "        dict_slice = lambda mydict, start, end: { k:mydict[k] for k in list(mydict.keys())[start:end] }\n",
    "        l = dict_slice(mydict, i, n)\n",
    "        bi=getB(l)\n",
    "        b[j]=bi\n",
    "        print(\"b\",j,\"=\",bi)\n",
    "        j+=1\n",
    "    print(\"b参数数组为：\",b)\n",
    "    "
   ]
  },
  {
   "cell_type": "code",
   "execution_count": 29,
   "metadata": {},
   "outputs": [
    {
     "data": {
      "image/png": "[encoded data removed]",
      "text/plain": [
       "<matplotlib.figure.Figure at 0x18be906b048>"
      ]
     },
     "metadata": {},
     "output_type": "display_data"
    }
   ],
   "source": [
    "#N(x)=3+3*(x-0)+1*(x-0)*(x-1)+1*(x-0)*(x-1)*(x-2)\n",
    "import matplotlib.pyplot as plt\n",
    "import numpy as np\n",
    "x = np.arange(-10, 10, 0.1)\n",
    "y = 3+3*(x-0)+1*(x-0)*(x-1)+1*(x-0)*(x-1)*(x-2)\n",
    "plt.title(\"3+3*(x-0)+1*(x-0)*(x-1)+1*(x-0)*(x-1)*(x-2)\")\n",
    "plt.xlabel(\"x\")\n",
    "plt.ylabel(\"y\")\n",
    "plt.grid()\n",
    "plt.plot(x, y)\n",
    "plt.show()"
   ]
  },
  {
   "cell_type": "code",
   "execution_count": null,
   "metadata": {},
   "outputs": [],
   "source": []
  }
 ],
 "metadata": {
  "kernelspec": {
   "display_name": "Python 3",
   "language": "python",
   "name": "python3"
  },
  "language_info": {
   "codemirror_mode": {
    "name": "ipython",
    "version": 3
   },
   "file_extension": ".py",
   "mimetype": "text/x-python",
   "name": "python",
   "nbconvert_exporter": "python",
   "pygments_lexer": "ipython3",
   "version": "3.6.4"
  }
 },
 "nbformat": 4,
 "nbformat_minor": 2
}
